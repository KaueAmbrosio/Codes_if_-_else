{
  "nbformat": 4,
  "nbformat_minor": 0,
  "metadata": {
    "colab": {
      "provenance": []
    },
    "kernelspec": {
      "name": "python3",
      "display_name": "Python 3"
    },
    "language_info": {
      "name": "python"
    }
  },
  "cells": [
    {
      "cell_type": "code",
      "execution_count": 13,
      "metadata": {
        "colab": {
          "base_uri": "https://localhost:8080/"
        },
        "id": "uxk2Rtx98xEM",
        "outputId": "662decc6-2086-4fdf-d809-d413e30876e8"
      },
      "outputs": [
        {
          "output_type": "stream",
          "name": "stdout",
          "text": [
            "Digite o primeiro número: 55\n",
            "Digite o segundo número: 88\n",
            "Digite o terceiro número: 22\n",
            "88 22\n"
          ]
        }
      ],
      "source": [
        "#Exercício 7:\n",
        "#Faça um programa que leia três números, verifique (usando if e else) e mostre o maior e o menor deles;\n",
        "n1=int (input(\"Digite o primeiro número: \")) # a variável ‘’n1’’ esta recebendo o valor digitado pelo input do usuário.\n",
        "n2=int (input(\"Digite o segundo número: \")) # a variável ‘’n2’’ esta recebendo o valor digitado pelo input do usuário.\n",
        "n3=int (input(\"Digite o terceiro número: \")) # a variável ‘’n3’’ esta recebendo o valor digitado pelo input do usuário.\n",
        "Maior = 0\n",
        "Menor = 0\n",
        "\n",
        "if n1 > n2 and n1 > n3:\n",
        "  Maior = n1\n",
        "\n",
        "elif n2 > n1 and n2 > n3:\n",
        "  Maior = n2\n",
        "\n",
        "else:\n",
        "  Maior = n3\n",
        "\n",
        "if n1 < n2 and n1 < n3:\n",
        "  Menor=n1\n",
        "elif n2 < n1 and n2 < n3:\n",
        "  Menor = n2\n",
        "else:\n",
        "  Menor = n3\n",
        "\n",
        "print(Maior, Menor)"
      ]
    }
  ]
}