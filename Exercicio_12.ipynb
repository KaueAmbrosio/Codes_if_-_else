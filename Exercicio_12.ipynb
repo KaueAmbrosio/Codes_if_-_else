{
  "nbformat": 4,
  "nbformat_minor": 0,
  "metadata": {
    "colab": {
      "provenance": []
    },
    "kernelspec": {
      "name": "python3",
      "display_name": "Python 3"
    },
    "language_info": {
      "name": "python"
    }
  },
  "cells": [
    {
      "cell_type": "code",
      "execution_count": 22,
      "metadata": {
        "colab": {
          "base_uri": "https://localhost:8080/"
        },
        "id": "uxk2Rtx98xEM",
        "outputId": "3a35fc3c-1bec-413c-c65e-83a9b114da51"
      },
      "outputs": [
        {
          "output_type": "stream",
          "name": "stdout",
          "text": [
            "Indique um dia da semana: (1- Domingo, 2- Segunda, 3- Terca, 4- Quarta, 5- Quinta, 6- Sexta, 7- Sabado) 6\n",
            "Sexta-Feira.\n"
          ]
        }
      ],
      "source": [
        "#Exercício 11:\n",
        "a= int(input(\"Indique um dia da semana: (1- Domingo, 2- Segunda, 3- Terca, 4- Quarta, 5- Quinta, 6- Sexta, 7- Sabado) \"))\n",
        "if a== 1:\n",
        " print(\"Domingo.\")\n",
        "elif a== 2:\n",
        " print(\"Segunda-Feira.\")\n",
        "elif a== 3:\n",
        " print(\"Terca-Feira.\")\n",
        "elif a== 4:\n",
        " print(\"Quarta-Feira.\")\n",
        "elif a== 5:\n",
        " print(\"Quinta-Feira.\")\n",
        "elif a== 6:\n",
        " print(\"Sexta-Feira.\")\n",
        "elif a== 7:\n",
        " print(\"Sabado\")\n",
        "else:\n",
        " print(\"Valor invalido.\")"
      ]
    }
  ]
}