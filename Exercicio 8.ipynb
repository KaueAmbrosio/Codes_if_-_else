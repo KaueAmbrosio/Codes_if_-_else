{
  "nbformat": 4,
  "nbformat_minor": 0,
  "metadata": {
    "colab": {
      "provenance": []
    },
    "kernelspec": {
      "name": "python3",
      "display_name": "Python 3"
    },
    "language_info": {
      "name": "python"
    }
  },
  "cells": [
    {
      "cell_type": "code",
      "execution_count": 12,
      "metadata": {
        "colab": {
          "base_uri": "https://localhost:8080/"
        },
        "id": "xRL1PHxwNLxm",
        "outputId": "47de0fda-d019-4622-862f-26f96152a1b2"
      },
      "outputs": [
        {
          "output_type": "stream",
          "name": "stdout",
          "text": [
            "Selecione o preco do primeiro produto 100\n",
            "Selecione o preco do segundo produto 2500\n",
            "selecione o preco do terceiro produto 90\n",
            "90.0\n"
          ]
        }
      ],
      "source": [
        "a= float(input(\"Selecione o preco do primeiro produto \"))\n",
        "b= float(input(\"Selecione o preco do segundo produto \"))\n",
        "c= float(input(\"selecione o preco do terceiro produto \"))\n",
        "\n",
        "if a < b and a < c:\n",
        "    print(a)\n",
        "elif b < a and b < c:\n",
        "    print(b)\n",
        "elif c < a and c < b:\n",
        "    print(c)\n",
        "else:\n",
        "    print(\"Temos ofertas com o mesmo preco.\")"
      ]
    }
  ]
}