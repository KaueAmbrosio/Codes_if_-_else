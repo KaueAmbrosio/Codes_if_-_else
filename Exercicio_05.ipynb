{
  "nbformat": 4,
  "nbformat_minor": 0,
  "metadata": {
    "colab": {
      "provenance": []
    },
    "kernelspec": {
      "name": "python3",
      "display_name": "Python 3"
    },
    "language_info": {
      "name": "python"
    }
  },
  "cells": [
    {
      "cell_type": "code",
      "execution_count": 25,
      "metadata": {
        "colab": {
          "base_uri": "https://localhost:8080/"
        },
        "id": "twSQ_cexDMGO",
        "outputId": "8bc14e5a-536f-4201-d2af-f9c0b24337bc"
      },
      "outputs": [
        {
          "output_type": "stream",
          "name": "stdout",
          "text": [
            "Digite a primeira nota: 10\n",
            "Digite a segunda nota: 3\n",
            "Voce foi reprovado\n"
          ]
        }
      ],
      "source": [
        "nota1= int(input(\"Digite a primeira nota: \"))\n",
        "nota2= int(input(\"Digite a segunda nota: \"))\n",
        "\n",
        "media = nota1 + nota2\n",
        "parcial = media % 2\n",
        "\n",
        "if parcial == 10:\n",
        "    print (\"Voce foi aprovado, com Execelencia\")\n",
        "elif parcial < 7:\n",
        "    print(\"Voce foi reprovado\")\n",
        "elif parcial >= 7:\n",
        "    print(\"Voce foi Aprovado\")\n",
        "else:\n",
        "    (\"Resposta nao correspondida\")"
      ]
    }
  ]
}