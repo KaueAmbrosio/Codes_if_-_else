{
  "nbformat": 4,
  "nbformat_minor": 0,
  "metadata": {
    "colab": {
      "provenance": []
    },
    "kernelspec": {
      "name": "python3",
      "display_name": "Python 3"
    },
    "language_info": {
      "name": "python"
    }
  },
  "cells": [
    {
      "cell_type": "code",
      "execution_count": 14,
      "metadata": {
        "colab": {
          "base_uri": "https://localhost:8080/"
        },
        "id": "uxk2Rtx98xEM",
        "outputId": "12ac4cdd-75d6-494a-97cd-948f16b1baf3"
      },
      "outputs": [
        {
          "output_type": "stream",
          "name": "stdout",
          "text": [
            "Digite o primeiro número: 11\n",
            "Digite o segundo número: 22\n",
            "Digite o terceiro número: 33\n",
            "33 22 11\n"
          ]
        }
      ],
      "source": [
        "#Exercício 8:\n",
        "a=int (input(\"Digite o primeiro número: \")) # a variável ‘’a’’ esta recebendo o valor digitado pelo input do usuário.\n",
        "b=int (input(\"Digite o segundo número: \")) # a variável ‘’b’’ esta recebendo o valor digitado pelo input do usuário.\n",
        "c=int (input(\"Digite o terceiro número: \")) # a variável ‘’c’’ esta recebendo o valor digitado pelo input do usuário.\n",
        "if a < b and b < c:\n",
        " print( c, b, a)\n",
        "\n",
        "elif b < c and c < a:\n",
        " print( a, c, b)\n",
        "\n",
        "elif c < a and a < b:\n",
        " print( b, a, c)\n",
        "\n",
        "elif a < c and c < b:\n",
        " print( b, c, a)\n",
        "\n",
        "elif c < b and b < a:\n",
        " print( a, b, c)\n",
        "\n",
        "else:\n",
        " print(c, a, b)"
      ]
    }
  ]
}