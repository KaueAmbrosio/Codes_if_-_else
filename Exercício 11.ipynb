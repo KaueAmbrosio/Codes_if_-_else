{
  "nbformat": 4,
  "nbformat_minor": 0,
  "metadata": {
    "colab": {
      "provenance": []
    },
    "kernelspec": {
      "name": "python3",
      "display_name": "Python 3"
    },
    "language_info": {
      "name": "python"
    }
  },
  "cells": [
    {
      "cell_type": "code",
      "execution_count": 18,
      "metadata": {
        "colab": {
          "base_uri": "https://localhost:8080/"
        },
        "id": "uxk2Rtx98xEM",
        "outputId": "70c5dc3c-fe91-477a-90e1-4bf75508d208"
      },
      "outputs": [
        {
          "output_type": "stream",
          "name": "stdout",
          "text": [
            "Digite o primeiro número: 26\n",
            "Digite o segundo número: 98\n",
            "98 26\n"
          ]
        }
      ],
      "source": [
        "#Exercício 10:\n",
        "num1=int (input(\"Digite o primeiro número: \")) # a variável ‘’num1’’ esta recebendo o valor digitado pelo input do usuário.\n",
        "num2=int (input(\"Digite o segundo número: \")) # a variável ‘’num2’’ esta recebendo o valor digitado pelo input do usuário.\n",
        "\n",
        "if num1 > num2:\n",
        " print(num1, num2)\n",
        "else:\n",
        " print(num2, num1)"
      ]
    }
  ]
}