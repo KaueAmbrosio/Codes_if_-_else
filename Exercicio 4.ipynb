{
  "nbformat": 4,
  "nbformat_minor": 0,
  "metadata": {
    "colab": {
      "provenance": []
    },
    "kernelspec": {
      "name": "python3",
      "display_name": "Python 3"
    },
    "language_info": {
      "name": "python"
    }
  },
  "cells": [
    {
      "cell_type": "code",
      "execution_count": 13,
      "metadata": {
        "colab": {
          "base_uri": "https://localhost:8080/"
        },
        "id": "twSQ_cexDMGO",
        "outputId": "9c9cbbc8-95a6-4ecf-9032-d61b9771e824"
      },
      "outputs": [
        {
          "output_type": "stream",
          "name": "stdout",
          "text": [
            "Digite uma letra p\n",
            "Esta letra e uma concoante\n"
          ]
        }
      ],
      "source": [
        "a = input(\"Digite uma letra \")\n",
        "if a == \"a\" or a == \"e\" or a == \"i\" or a == \"o\" or a == \"u\" or a == \"A\" or a == \"E\" or a == \"I\" or a == \"O\" or a == \"U\":\n",
        " print(\"Esta letra e uma vogal\")\n",
        "else:\n",
        "    print(\"Esta letra e uma concoante\")"
      ]
    }
  ]
}