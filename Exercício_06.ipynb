{
  "nbformat": 4,
  "nbformat_minor": 0,
  "metadata": {
    "colab": {
      "provenance": []
    },
    "kernelspec": {
      "name": "python3",
      "display_name": "Python 3"
    },
    "language_info": {
      "name": "python"
    }
  },
  "cells": [
    {
      "cell_type": "code",
      "execution_count": 3,
      "metadata": {
        "colab": {
          "base_uri": "https://localhost:8080/"
        },
        "id": "xRL1PHxwNLxm",
        "outputId": "005afce5-cfbb-4bd7-939f-0c00eb7f1c3b"
      },
      "outputs": [
        {
          "output_type": "stream",
          "name": "stdout",
          "text": [
            "Digite o primeiro numero 1\n",
            "Digite o segundo numero 4\n",
            "Digite o terceiro numero 6\n",
            "6\n"
          ]
        }
      ],
      "source": [
        "a = int(input(\"Digite o primeiro numero \"))\n",
        "b = int(input(\"Digite o segundo numero \"))\n",
        "c = int(input(\"Digite o terceiro numero \"))\n",
        "\n",
        "if a > b:\n",
        "  print(a)\n",
        "elif a > c:\n",
        "  print(a)\n",
        "elif a < c:\n",
        "  print(c)\n",
        "elif a < b:\n",
        "  print(b)\n",
        "elif c < b:\n",
        "   print(b)\n",
        "elif c > b:\n",
        "  print(c)\n",
        "else:\n",
        "  print(\"Numeros iguais\")\n"
      ]
    }
  ]
}