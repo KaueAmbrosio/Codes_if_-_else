{
  "nbformat": 4,
  "nbformat_minor": 0,
  "metadata": {
    "colab": {
      "provenance": []
    },
    "kernelspec": {
      "name": "python3",
      "display_name": "Python 3"
    },
    "language_info": {
      "name": "python"
    }
  },
  "cells": [
    {
      "cell_type": "code",
      "execution_count": 16,
      "metadata": {
        "colab": {
          "base_uri": "https://localhost:8080/"
        },
        "id": "uxk2Rtx98xEM",
        "outputId": "fee38acc-e46f-4f18-bce9-f221a014c90c"
      },
      "outputs": [
        {
          "output_type": "stream",
          "name": "stdout",
          "text": [
            "Informe o período que você estuda M (manha), T (tarde), N (noturno) t\n",
            "Boa tarde!\n"
          ]
        }
      ],
      "source": [
        "#Exercício 8:\n",
        "x= (input(\"Informe o período que você estuda M (manha), T (tarde), N (noturno) \")) # a variável ‘’x’’ está recebendo digitado pelo input do usuário o caracter sobre o período que ele estuda\n",
        "\n",
        "if x== \"M\" or x==\"m\": # se o caracter de x for M ou m, então\n",
        " print(\"Bom dia!\")\n",
        "\n",
        "elif x==\"T\" or x==\"t\": #se o caracter de x for T ou t então\n",
        " print(\"Boa tarde!\")\n",
        "\n",
        "elif x==\"N\" or x==\"n\": #se o caracter de x for N ou n então\n",
        " print(\"Boa noite!\")\n",
        "\n",
        "else: #se o caracter de a for diferente de M, m, T, t, N ou n então\n",
        "\n",
        " print(\"valor invalido.\")"
      ]
    }
  ]
}