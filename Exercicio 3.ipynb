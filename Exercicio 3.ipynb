{
  "nbformat": 4,
  "nbformat_minor": 0,
  "metadata": {
    "colab": {
      "provenance": []
    },
    "kernelspec": {
      "name": "python3",
      "display_name": "Python 3"
    },
    "language_info": {
      "name": "python"
    }
  },
  "cells": [
    {
      "cell_type": "code",
      "execution_count": 10,
      "metadata": {
        "colab": {
          "base_uri": "https://localhost:8080/"
        },
        "id": "twSQ_cexDMGO",
        "outputId": "7799332e-4794-4ed6-9c2c-3c36ec0a3d30"
      },
      "outputs": [
        {
          "output_type": "stream",
          "name": "stdout",
          "text": [
            "Selecione sua sexualidade - M ou F f\n",
            "Sexo Feminino\n"
          ]
        }
      ],
      "source": [
        "a =input(\"Selecione sua sexualidade - M ou F \")\n",
        "if a == \"m\" or a == \"M\":\n",
        "    print(\"Sexo masculino\")\n",
        "elif a == \"f\" or a == \"F\":\n",
        "  print(\"Sexo Feminino\")\n",
        "elif a == \"Carro\":\n",
        "  print(\"Parabens! voce e um carro\")\n",
        "else:\n",
        " print(\"genero invalido\")"
      ]
    }
  ]
}