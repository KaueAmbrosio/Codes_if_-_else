{
  "nbformat": 4,
  "nbformat_minor": 0,
  "metadata": {
    "colab": {
      "provenance": []
    },
    "kernelspec": {
      "name": "python3",
      "display_name": "Python 3"
    },
    "language_info": {
      "name": "python"
    }
  },
  "cells": [
    {
      "cell_type": "code",
      "execution_count": 3,
      "metadata": {
        "colab": {
          "base_uri": "https://localhost:8080/"
        },
        "id": "twSQ_cexDMGO",
        "outputId": "9faba695-febf-48cf-aa04-a78b4f27775a"
      },
      "outputs": [
        {
          "output_type": "stream",
          "name": "stdout",
          "text": [
            "digite o primeiro numero: 15\n",
            "digite o segundo número: 1\n",
            "15\n"
          ]
        }
      ],
      "source": [
        "#Solicita ao usuário para digitar o primeiro número e armazena o valor em 'a'\n",
        "a= input(\"digite o primeiro numero: \")\n",
        "# Solicita ao usuário para digitar o segundo número e armazena o valor em 'b'\n",
        "b= input(\"digite o segundo número: \")\n",
        "# Verifica se o valor armazenado em 'b' é maior que o valor em 'a'\n",
        "if b > a:\n",
        "# Se 'b' for maior que 'a', imprime 'b'\n",
        "  print (b)\n",
        "else:\n",
        "# Se 'b' não for maior que 'a', imprime 'a'\n",
        " print(a)"
      ]
    }
  ]
}