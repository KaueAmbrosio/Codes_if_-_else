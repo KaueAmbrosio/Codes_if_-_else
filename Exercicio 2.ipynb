{
  "nbformat": 4,
  "nbformat_minor": 0,
  "metadata": {
    "colab": {
      "provenance": []
    },
    "kernelspec": {
      "name": "python3",
      "display_name": "Python 3"
    },
    "language_info": {
      "name": "python"
    }
  },
  "cells": [
    {
      "cell_type": "code",
      "execution_count": 7,
      "metadata": {
        "colab": {
          "base_uri": "https://localhost:8080/"
        },
        "id": "twSQ_cexDMGO",
        "outputId": "1a34537d-acfa-4630-f59e-71817c9cc11a"
      },
      "outputs": [
        {
          "output_type": "stream",
          "name": "stdout",
          "text": [
            "Escreva um numero 14\n",
            "Este numero e positivo\n"
          ]
        }
      ],
      "source": [
        "a= int(input(\"Escreva um numero \"))\n",
        "if a > 0 :\n",
        "    print(\"Este numero e positivo\")\n",
        "elif a == 0:\n",
        "    print(\"o numero e igual a zero\")\n",
        "else:\n",
        "    print(\"o numero e negativo\")"
      ]
    }
  ]
}